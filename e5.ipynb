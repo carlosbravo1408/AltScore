{
 "cells": [
  {
   "cell_type": "code",
   "id": "initial_id",
   "metadata": {
    "collapsed": true,
    "ExecuteTime": {
     "end_time": "2025-07-30T03:15:46.051627Z",
     "start_time": "2025-07-30T03:15:45.900725Z"
    }
   },
   "source": [
    "import heapq\n",
    "from typing import Optional\n",
    "\n",
    "from lib.altscoreapi_helper import AltScoreApiHelper\n",
    "from lib.constants import Constants"
   ],
   "outputs": [],
   "execution_count": 1
  },
  {
   "metadata": {
    "ExecuteTime": {
     "end_time": "2025-07-30T03:15:46.210213Z",
     "start_time": "2025-07-30T03:15:46.207664Z"
    }
   },
   "cell_type": "code",
   "source": [
    "token = Constants.API_KEY\n",
    "api = AltScoreApiHelper(token)"
   ],
   "id": "a96d9a9908ae0a2",
   "outputs": [],
   "execution_count": 2
  },
  {
   "metadata": {},
   "cell_type": "markdown",
   "source": "### Some necessary methods and definitions",
   "id": "38e981cf6c258c31"
  },
  {
   "metadata": {
    "ExecuteTime": {
     "end_time": "2025-07-30T03:15:46.260327Z",
     "start_time": "2025-07-30T03:15:46.256721Z"
    }
   },
   "cell_type": "code",
   "source": [
    "# Conversions\n",
    "row_conversion = {\n",
    "    \"1\":7, \"2\":6, \"3\":5, \"4\":4, \"5\":3, \"6\":2, \"7\":1, \"8\":0\n",
    "}\n",
    "col_conversion = {\n",
    "    \"a\":0, \"b\":1, \"c\":2, \"d\":3, \"e\":4, \"f\":5, \"g\":6, \"h\":7\n",
    "}\n",
    "inverse_row_conversion = {\n",
    "    v: k for k, v in row_conversion.items()\n",
    "}\n",
    "inverse_col_conversion = {\n",
    "    v: k for k, v in col_conversion.items()\n",
    "}\n"
   ],
   "id": "8c66015071830082",
   "outputs": [],
   "execution_count": 3
  },
  {
   "metadata": {
    "ExecuteTime": {
     "end_time": "2025-07-30T03:15:46.314744Z",
     "start_time": "2025-07-30T03:15:46.309700Z"
    }
   },
   "cell_type": "code",
   "source": [
    "def convert_message_to_map(message: str) :\n",
    "    rows = message.split('|')\n",
    "    map = [[\".\" for _ in range(8)] for _ in range(8)]\n",
    "    enemy = (0,0)\n",
    "    ally = (0,0)\n",
    "    for row in rows :\n",
    "        cols = [row[i:i+3] for i in range(0, len(row), 3)]\n",
    "        for col in cols :\n",
    "            if col[1] == \"0\":\n",
    "                continue\n",
    "            x,y = col_conversion[col[0]], row_conversion[col[2]]\n",
    "            if col[1] == \"^\" :\n",
    "                enemy = (x, y)\n",
    "                map[y][x] = \"E\"\n",
    "            elif col[1] == \"#\" :\n",
    "                ally = (x, y)\n",
    "                map[y][x] = \"A\"\n",
    "            else:\n",
    "                map[y][x] = col[1]\n",
    "    return map, ally, enemy"
   ],
   "id": "3c393b0394506bd",
   "outputs": [],
   "execution_count": 4
  },
  {
   "metadata": {},
   "cell_type": "markdown",
   "source": "## Dijkstra Algorithm",
   "id": "de03098f96e8b5c5"
  },
  {
   "metadata": {
    "ExecuteTime": {
     "end_time": "2025-07-30T03:15:46.391199Z",
     "start_time": "2025-07-30T03:15:46.378953Z"
    }
   },
   "cell_type": "code",
   "source": [
    "def get_neighbors(pos, map):\n",
    "    x, y = pos\n",
    "    neighbors = []\n",
    "    directions = [(0, 1), (0, -1), (1, 0), (-1, 0)]\n",
    "    for dx, dy in directions:\n",
    "        nx, ny = x + dx, y + dy\n",
    "        if 0 <= nx < len(map) and 0 <= ny < len(map[0]):\n",
    "            if map[ny][nx] != \"$\":\n",
    "                neighbors.append((nx, ny))\n",
    "    return neighbors\n",
    "\n",
    "def dijkstra_path(map, ally, enemy, neighbors_function=get_neighbors):\n",
    "    came_from = {}\n",
    "    frontier = []\n",
    "    heapq.heappush(frontier, (0, enemy))\n",
    "    g_score = {enemy: 0}\n",
    "\n",
    "    while frontier:\n",
    "        current_cost, current = heapq.heappop(frontier)\n",
    "\n",
    "        if current == ally:\n",
    "            path = [current]\n",
    "            while current in came_from:\n",
    "                current = came_from[current]\n",
    "                path.append(current)\n",
    "            path.reverse()\n",
    "            return path\n",
    "\n",
    "        for neighbor in neighbors_function(current, map):\n",
    "            tent_g = g_score[current] + 1\n",
    "            if neighbor not in g_score or tent_g < g_score[neighbor]:\n",
    "                g_score[neighbor] = tent_g\n",
    "                came_from[neighbor] = current\n",
    "                heapq.heappush(frontier, (tent_g, neighbor))\n",
    "\n",
    "    return None"
   ],
   "id": "6b76cb173962e956",
   "outputs": [],
   "execution_count": 5
  },
  {
   "metadata": {},
   "cell_type": "markdown",
   "source": "### Detection of new neighbor search function",
   "id": "a0e0ba274aad42e5"
  },
  {
   "metadata": {
    "ExecuteTime": {
     "end_time": "2025-07-30T03:15:46.429170Z",
     "start_time": "2025-07-30T03:15:46.424736Z"
    }
   },
   "cell_type": "code",
   "source": [
    "def detect_movement_pattern(prev_position, current_position):\n",
    "    delta = [prev_position[0] - current_position[0], prev_position[1] - current_position[1]]\n",
    "    dx, dy = delta\n",
    "    return {\n",
    "        (dx, dy), (dx, -dy),\n",
    "        (-dx, dy), (-dx, -dy),\n",
    "        (dy, dx), (dy, -dx),\n",
    "        (-dy, dx), (-dy, -dx)\n",
    "    }\n",
    "\n",
    "def custom_neighbors_function(movement_set):\n",
    "    return lambda pos, map: [\n",
    "        (pos[0] + dx, pos[1] + dy)\n",
    "        for dx, dy in movement_set\n",
    "        if 0 <= pos[0] + dx < len(map[0])\n",
    "        and 0 <= pos[1] + dy < len(map)\n",
    "        and map[pos[1] + dy][pos[0] + dx] != \"$\"\n",
    "    ]"
   ],
   "id": "e4f69e107aa66681",
   "outputs": [],
   "execution_count": 6
  },
  {
   "metadata": {},
   "cell_type": "markdown",
   "source": "## Prediction Algorithm",
   "id": "4d5746305f3beea4"
  },
  {
   "metadata": {
    "ExecuteTime": {
     "end_time": "2025-07-30T03:15:46.492846Z",
     "start_time": "2025-07-30T03:15:46.487614Z"
    }
   },
   "cell_type": "code",
   "source": [
    "def predict_next_movement(\n",
    "        message: str,\n",
    "        prev_message: Optional[str] = None,\n",
    "        verbose: bool = False\n",
    "):\n",
    "    map, ally, enemy = convert_message_to_map(message)\n",
    "    next_movement_prediction = None\n",
    "\n",
    "    if prev_message is not None:\n",
    "        prev_map, prev_ally, prev_enemy = convert_message_to_map(prev_message)\n",
    "        pos = detect_movement_pattern(prev_enemy, enemy)\n",
    "        possible_path = dijkstra_path(\n",
    "            map=map, ally=ally, enemy=enemy,\n",
    "            neighbors_function=custom_neighbors_function(pos)\n",
    "        )\n",
    "        if enemy in dijkstra_path(\n",
    "            map=prev_map, ally=prev_ally, enemy=prev_enemy,\n",
    "            neighbors_function=custom_neighbors_function(pos)\n",
    "        ):\n",
    "            next_movement_prediction = possible_path[1]\n",
    "    else:\n",
    "        possible_path = dijkstra_path(map=map, ally=ally, enemy=enemy)\n",
    "\n",
    "    if verbose:\n",
    "        for i, r in enumerate(map):\n",
    "            _r = []\n",
    "            for j, c in enumerate(r):\n",
    "                if (j,i) != ally and (j,i) != enemy and (j,i) in possible_path:\n",
    "                    _r.append(\"*\")\n",
    "                else:\n",
    "                    _r.append(c)\n",
    "            print(_r)\n",
    "        print(f\"Possible Path: {possible_path}\")\n",
    "\n",
    "    return next_movement_prediction"
   ],
   "id": "1141ef8697526895",
   "outputs": [],
   "execution_count": 7
  },
  {
   "metadata": {},
   "cell_type": "markdown",
   "source": "## Example map display",
   "id": "350b654854ddc4e2"
  },
  {
   "metadata": {
    "ExecuteTime": {
     "end_time": "2025-07-30T03:15:46.567353Z",
     "start_time": "2025-07-30T03:15:46.558221Z"
    }
   },
   "cell_type": "code",
   "source": "test_position_message = \"a01b01c01d01e01f01g01h01|a02b02c02d02e$2f02g02h02|a03b03c03d03e03f03g03h$3|a04b04c04d04e04f04g04h04|a05b05c05d05e$5f05g^5h05|a06b06c06d06e$6f06g06h06|a07b07c07d07e07f07g07h07|a08b08c08d08e08f#8g08h08|\"",
   "id": "47aae231793e449f",
   "outputs": [],
   "execution_count": 8
  },
  {
   "metadata": {
    "ExecuteTime": {
     "end_time": "2025-07-30T03:15:46.632604Z",
     "start_time": "2025-07-30T03:15:46.622719Z"
    }
   },
   "cell_type": "code",
   "source": "predict_next_movement(test_position_message, verbose=True)",
   "id": "1a6c271a0c083bdb",
   "outputs": [
    {
     "name": "stdout",
     "output_type": "stream",
     "text": [
      "['.', '.', '.', '.', '.', 'A', '.', '.']\n",
      "['.', '.', '.', '.', '.', '*', '.', '.']\n",
      "['.', '.', '.', '.', '$', '*', '.', '.']\n",
      "['.', '.', '.', '.', '$', '*', 'E', '.']\n",
      "['.', '.', '.', '.', '.', '.', '.', '.']\n",
      "['.', '.', '.', '.', '.', '.', '.', '$']\n",
      "['.', '.', '.', '.', '$', '.', '.', '.']\n",
      "['.', '.', '.', '.', '.', '.', '.', '.']\n",
      "Possible Path: [(6, 3), (5, 3), (5, 2), (5, 1), (5, 0)]\n"
     ]
    }
   ],
   "execution_count": 9
  },
  {
   "metadata": {},
   "cell_type": "markdown",
   "source": "## We started the Challenge",
   "id": "258f576840efaa52"
  },
  {
   "metadata": {
    "ExecuteTime": {
     "end_time": "2025-07-30T03:15:46.693392Z",
     "start_time": "2025-07-30T03:15:46.691051Z"
    }
   },
   "cell_type": "code",
   "source": "api.s1_e5_start_challenge()",
   "id": "174f71d0e1ba2d5b",
   "outputs": [],
   "execution_count": 10
  },
  {
   "metadata": {},
   "cell_type": "markdown",
   "source": "### Perform max 3 turns",
   "id": "ad588eb008c740b3"
  },
  {
   "metadata": {
    "ExecuteTime": {
     "end_time": "2025-07-30T03:15:46.743730Z",
     "start_time": "2025-07-30T03:15:46.738638Z"
    }
   },
   "cell_type": "code",
   "source": [
    "prev_message = None\n",
    "\n",
    "messages = [\n",
    "    \"a01b^1c01d01e01f01g01h01|a02b02c02d$2e02f02g02h02|a03b03c$3d03e03f03g03h03|a04b04c$4d04e04f04g04h04|a05b05c05d05e05f05g05h05|a06b06c06d$6e06f06g06h06|a07b07c07d07e07f07g07h07|a08b08c08d08e#8f08g08h08|\",\n",
    "    \"a01b01c01d01e01f01g01h01|a02b02c02d$2e02f02g02h02|a^3b03c$3d03e03f03g03h03|a04b04c$4d04e04f04g04h04|a05b05c05d05e05f05g05h05|a06b06c06d$6e06f06g06h06|a07b07c07d07e07f07g07h07|a08b08c08d08e#8f08g08h08|\",\n",
    "    \"a01b01c01d01e01f01g01h01|a02b02c02d$2e02f02g02h02|a03b03c$3d03e03f03g03h03|a04b04c$4d04e04f04g04h04|a05b^5c05d05e05f05g05h05|a06b06c06d$6e06f06g06h06|a07b07c07d07e07f07g07h07|a08b08c08d08e#8f08g08h08|\",\n",
    "    \"a01b01c01d01e01f01g01h01|a02b02c02d$2e02f02g02h02|a03b03c$3d03e03f03g03h03|a04b04c$4d04e04f04g04h04|a05b05c05d05e05f05g05h05|a06b06c06d$6e06f06g06h06|a07b07c^7d07e07f07g07h07|a08b08c08d08e#8f08g08h08|\"\n",
    "]\n",
    "\n",
    "next_movement = 0\n",
    "\n",
    "# It is only attempted 3 times at most\n",
    "for i in range(3):\n",
    "    turns_remaining, timing_remaining, message = api.s1_e5_get_radar_read()\n",
    "    # message = messages[i]\n",
    "    next_movement = predict_next_movement(message, prev_message, verbose=True)\n",
    "    if next_movement is not None:\n",
    "        next_movement = {\n",
    "            \"x\": inverse_col_conversion[next_movement[0]],\n",
    "            \"y\": inverse_row_conversion[next_movement[1]]\n",
    "        }\n",
    "    prev_message = message\n",
    "    print(f\"Next movement prediction: {next_movement}\")\n",
    "    print()"
   ],
   "id": "c23db921987928af",
   "outputs": [
    {
     "name": "stdout",
     "output_type": "stream",
     "text": [
      "['.', '*', '*', '*', 'A', '.', '.', '.']\n",
      "['.', '*', '.', '.', '.', '.', '.', '.']\n",
      "['.', '*', '.', '$', '.', '.', '.', '.']\n",
      "['.', '*', '.', '.', '.', '.', '.', '.']\n",
      "['.', '*', '$', '.', '.', '.', '.', '.']\n",
      "['.', '*', '$', '.', '.', '.', '.', '.']\n",
      "['.', '*', '.', '$', '.', '.', '.', '.']\n",
      "['.', 'E', '.', '.', '.', '.', '.', '.']\n",
      "Possible Path: [(1, 7), (1, 6), (1, 5), (1, 4), (1, 3), (1, 2), (1, 1), (1, 0), (2, 0), (3, 0), (4, 0)]\n",
      "Next movement prediction: None\n",
      "\n",
      "['.', '.', '.', '.', 'A', '.', '.', '.']\n",
      "['.', '.', '*', '.', '.', '.', '.', '.']\n",
      "['.', '.', '.', '$', '.', '.', '.', '.']\n",
      "['.', '*', '.', '.', '.', '.', '.', '.']\n",
      "['.', '.', '$', '.', '.', '.', '.', '.']\n",
      "['E', '.', '$', '.', '.', '.', '.', '.']\n",
      "['.', '.', '.', '$', '.', '.', '.', '.']\n",
      "['.', '.', '.', '.', '.', '.', '.', '.']\n",
      "Possible Path: [(0, 5), (1, 3), (2, 1), (4, 0)]\n",
      "Next movement prediction: {'x': 'b', 'y': '5'}\n",
      "\n",
      "['.', '.', '.', '.', 'A', '.', '.', '.']\n",
      "['.', '.', '*', '.', '.', '.', '.', '.']\n",
      "['.', '.', '.', '$', '.', '.', '.', '.']\n",
      "['.', 'E', '.', '.', '.', '.', '.', '.']\n",
      "['.', '.', '$', '.', '.', '.', '.', '.']\n",
      "['.', '.', '$', '.', '.', '.', '.', '.']\n",
      "['.', '.', '.', '$', '.', '.', '.', '.']\n",
      "['.', '.', '.', '.', '.', '.', '.', '.']\n",
      "Possible Path: [(1, 3), (2, 1), (4, 0)]\n",
      "Next movement prediction: {'x': 'c', 'y': '7'}\n",
      "\n"
     ]
    }
   ],
   "execution_count": 11
  },
  {
   "metadata": {
    "ExecuteTime": {
     "end_time": "2025-07-30T03:15:46.798591Z",
     "start_time": "2025-07-30T03:15:46.796232Z"
    }
   },
   "cell_type": "code",
   "source": [
    "if api.s1_e5_send_enemy_prediction(next_movement):\n",
    "    print(\"Success\")\n",
    "else:\n",
    "    print(\"Failed\")"
   ],
   "id": "e9042c2e3c17275a",
   "outputs": [],
   "execution_count": 12
  },
  {
   "metadata": {
    "ExecuteTime": {
     "end_time": "2025-07-30T03:15:46.845133Z",
     "start_time": "2025-07-30T03:15:46.842573Z"
    }
   },
   "cell_type": "code",
   "source": [
    "#Solution\n",
    "sol = {\n",
    "    \"action\": \"attack\",\n",
    "    \"attack_position\": {\n",
    "        \"x\":\"c\", \"y\":7\n",
    "    }\n",
    "}"
   ],
   "id": "10e6b685a4cf754a",
   "outputs": [],
   "execution_count": 13
  }
 ],
 "metadata": {
  "kernelspec": {
   "display_name": "Python 3",
   "language": "python",
   "name": "python3"
  },
  "language_info": {
   "codemirror_mode": {
    "name": "ipython",
    "version": 2
   },
   "file_extension": ".py",
   "mimetype": "text/x-python",
   "name": "python",
   "nbconvert_exporter": "python",
   "pygments_lexer": "ipython2",
   "version": "2.7.6"
  }
 },
 "nbformat": 4,
 "nbformat_minor": 5
}
